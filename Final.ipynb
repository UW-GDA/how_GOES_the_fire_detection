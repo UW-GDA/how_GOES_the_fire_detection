{
 "cells": [
  {
   "cell_type": "markdown",
   "id": "d15cf447-b00f-489a-98e4-8dc28c155b33",
   "metadata": {},
   "source": [
    "# How GOES the Fire Detection?\n",
    "Jori Carter  \n",
    "UW GDA Winter 2022  \n",
    "Final Project  "
   ]
  },
  {
   "cell_type": "markdown",
   "id": "816667f8-a015-4b9a-87d4-fc1380042579",
   "metadata": {},
   "source": [
    "## Part 1: Creating Geodataframes from WA DNR fire data"
   ]
  },
  {
   "cell_type": "code",
   "execution_count": 4,
   "id": "e3e36fa2-8c2e-454d-ae95-0ff4e321f6db",
   "metadata": {},
   "outputs": [],
   "source": [
    "#imports\n",
    "import matplotlib.pyplot as plt\n",
    "import numpy as np\n",
    "import pandas as pd\n",
    "import geopandas as gpd\n",
    "from shapely.geometry import Point, Polygon"
   ]
  },
  {
   "cell_type": "markdown",
   "id": "76d1e87f-838c-4c96-8a5e-2b17c2228cab",
   "metadata": {},
   "source": [
    "### Linking data and creating dataframe\n",
    "Data is in a shapefile. "
   ]
  },
  {
   "cell_type": "code",
   "execution_count": 41,
   "id": "be02666d-bfb1-4b16-a459-eb8bc922578b",
   "metadata": {},
   "outputs": [],
   "source": [
    "wa_fires_fn = './wa_lrg_fires/wa_lrg_fires.shp'\n",
    "wa_fires_src = gpd.read_file(wa_fires_fn)"
   ]
  },
  {
   "cell_type": "markdown",
   "id": "46743cc3-a957-44ad-823c-fded36f0757b",
   "metadata": {},
   "source": [
    "### Bring in states outline and isolate Washington state\n",
    "This is using the same data from class"
   ]
  },
  {
   "cell_type": "code",
   "execution_count": 42,
   "id": "9d563b51-2b53-4938-bcfa-142ed40915b2",
   "metadata": {},
   "outputs": [],
   "source": [
    "states_url = 'http://eric.clst.org/assets/wiki/uploads/Stuff/gz_2010_us_040_00_5m.json'\n",
    "#states_url = 'http://eric.clst.org/assets/wiki/uploads/Stuff/gz_2010_us_040_00_500k.json'\n",
    "states_gdf = gpd.read_file(states_url)\n",
    "wa_gdf = states_gdf[states_gdf['NAME'] == 'Washington']"
   ]
  },
  {
   "cell_type": "markdown",
   "id": "35cc29ff-4815-4e3b-baee-6045f2aa7e02",
   "metadata": {},
   "source": [
    "### Make sure that the CRS used by each dataframe match"
   ]
  },
  {
   "cell_type": "code",
   "execution_count": 43,
   "id": "39dea0e5-7278-4060-a590-8caac5e2f2b8",
   "metadata": {},
   "outputs": [
    {
     "data": {
      "text/plain": [
       "<Geographic 2D CRS: EPSG:4326>\n",
       "Name: WGS 84\n",
       "Axis Info [ellipsoidal]:\n",
       "- Lat[north]: Geodetic latitude (degree)\n",
       "- Lon[east]: Geodetic longitude (degree)\n",
       "Area of Use:\n",
       "- name: World.\n",
       "- bounds: (-180.0, -90.0, 180.0, 90.0)\n",
       "Datum: World Geodetic System 1984 ensemble\n",
       "- Ellipsoid: WGS 84\n",
       "- Prime Meridian: Greenwich"
      ]
     },
     "execution_count": 43,
     "metadata": {},
     "output_type": "execute_result"
    }
   ],
   "source": [
    "wa_gdf.crs"
   ]
  },
  {
   "cell_type": "code",
   "execution_count": 44,
   "id": "8cbdb8fd-c3a1-4cf9-8add-7bb76dc926da",
   "metadata": {},
   "outputs": [
    {
     "data": {
      "text/plain": [
       "<Derived Projected CRS: PROJCS[\"NAD83(HARN) / Washington South (ftUS)\",GEO ...>\n",
       "Name: NAD83(HARN) / Washington South (ftUS)\n",
       "Axis Info [cartesian]:\n",
       "- [east]: Easting (US survey foot)\n",
       "- [north]: Northing (US survey foot)\n",
       "Area of Use:\n",
       "- undefined\n",
       "Coordinate Operation:\n",
       "- name: unnamed\n",
       "- method: Lambert Conic Conformal (2SP)\n",
       "Datum: NAD83 (High Accuracy Reference Network)\n",
       "- Ellipsoid: GRS 1980\n",
       "- Prime Meridian: Greenwich"
      ]
     },
     "execution_count": 44,
     "metadata": {},
     "output_type": "execute_result"
    }
   ],
   "source": [
    "wa_fires_src.crs"
   ]
  },
  {
   "cell_type": "code",
   "execution_count": 45,
   "id": "6e5c6d2d-2438-4df8-b861-cdb2ad53f3a4",
   "metadata": {},
   "outputs": [
    {
     "data": {
      "text/plain": [
       "True"
      ]
     },
     "execution_count": 45,
     "metadata": {},
     "output_type": "execute_result"
    }
   ],
   "source": [
    "wa_fires_gdf = wa_fires_src.to_crs(epsg=4326)\n",
    "wa_fires_gdf.crs == wa_gdf.crs"
   ]
  },
  {
   "cell_type": "markdown",
   "id": "0d749a53-e5e7-4430-a4a7-bfeb774a4dbe",
   "metadata": {},
   "source": [
    "### Plot and inspect the data"
   ]
  },
  {
   "cell_type": "code",
   "execution_count": 40,
   "id": "e9e5584a-77cb-47d6-8f32-71abca6d1414",
   "metadata": {},
   "outputs": [
    {
     "ename": "AttributeError",
     "evalue": "'Figure' object has no attribute 'set_aspect'",
     "output_type": "error",
     "traceback": [
      "\u001b[0;31m---------------------------------------------------------------------------\u001b[0m",
      "\u001b[0;31mAttributeError\u001b[0m                            Traceback (most recent call last)",
      "\u001b[0;32m/tmp/ipykernel_2423/2196526893.py\u001b[0m in \u001b[0;36m<module>\u001b[0;34m\u001b[0m\n\u001b[1;32m      1\u001b[0m \u001b[0max\u001b[0m\u001b[0;34m,\u001b[0m \u001b[0mfig\u001b[0m \u001b[0;34m=\u001b[0m \u001b[0mplt\u001b[0m\u001b[0;34m.\u001b[0m\u001b[0msubplots\u001b[0m\u001b[0;34m(\u001b[0m\u001b[0;34m)\u001b[0m\u001b[0;34m\u001b[0m\u001b[0;34m\u001b[0m\u001b[0m\n\u001b[0;32m----> 2\u001b[0;31m \u001b[0mwa_gdf\u001b[0m\u001b[0;34m.\u001b[0m\u001b[0mplot\u001b[0m\u001b[0;34m(\u001b[0m\u001b[0max\u001b[0m\u001b[0;34m=\u001b[0m\u001b[0max\u001b[0m\u001b[0;34m,\u001b[0m \u001b[0mfacecolor\u001b[0m\u001b[0;34m=\u001b[0m\u001b[0;34m'none'\u001b[0m\u001b[0;34m,\u001b[0m \u001b[0medgecolor\u001b[0m\u001b[0;34m=\u001b[0m\u001b[0;34m'k'\u001b[0m\u001b[0;34m)\u001b[0m\u001b[0;34m\u001b[0m\u001b[0;34m\u001b[0m\u001b[0m\n\u001b[0m\u001b[1;32m      3\u001b[0m \u001b[0mwa_fires_gdf\u001b[0m\u001b[0;34m.\u001b[0m\u001b[0mplot\u001b[0m\u001b[0;34m(\u001b[0m\u001b[0mcolumn\u001b[0m\u001b[0;34m=\u001b[0m\u001b[0;34m'YEAR'\u001b[0m\u001b[0;34m,\u001b[0m \u001b[0mcmap\u001b[0m\u001b[0;34m=\u001b[0m\u001b[0;34m'inferno'\u001b[0m\u001b[0;34m)\u001b[0m\u001b[0;34m;\u001b[0m\u001b[0;34m\u001b[0m\u001b[0;34m\u001b[0m\u001b[0m\n",
      "\u001b[0;32m/srv/conda/envs/notebook/lib/python3.9/site-packages/geopandas/plotting.py\u001b[0m in \u001b[0;36m__call__\u001b[0;34m(self, *args, **kwargs)\u001b[0m\n\u001b[1;32m    948\u001b[0m         \u001b[0mkind\u001b[0m \u001b[0;34m=\u001b[0m \u001b[0mkwargs\u001b[0m\u001b[0;34m.\u001b[0m\u001b[0mpop\u001b[0m\u001b[0;34m(\u001b[0m\u001b[0;34m\"kind\"\u001b[0m\u001b[0;34m,\u001b[0m \u001b[0;34m\"geo\"\u001b[0m\u001b[0;34m)\u001b[0m\u001b[0;34m\u001b[0m\u001b[0;34m\u001b[0m\u001b[0m\n\u001b[1;32m    949\u001b[0m         \u001b[0;32mif\u001b[0m \u001b[0mkind\u001b[0m \u001b[0;34m==\u001b[0m \u001b[0;34m\"geo\"\u001b[0m\u001b[0;34m:\u001b[0m\u001b[0;34m\u001b[0m\u001b[0;34m\u001b[0m\u001b[0m\n\u001b[0;32m--> 950\u001b[0;31m             \u001b[0;32mreturn\u001b[0m \u001b[0mplot_dataframe\u001b[0m\u001b[0;34m(\u001b[0m\u001b[0mdata\u001b[0m\u001b[0;34m,\u001b[0m \u001b[0;34m*\u001b[0m\u001b[0margs\u001b[0m\u001b[0;34m,\u001b[0m \u001b[0;34m**\u001b[0m\u001b[0mkwargs\u001b[0m\u001b[0;34m)\u001b[0m\u001b[0;34m\u001b[0m\u001b[0;34m\u001b[0m\u001b[0m\n\u001b[0m\u001b[1;32m    951\u001b[0m         \u001b[0;32mif\u001b[0m \u001b[0mkind\u001b[0m \u001b[0;32min\u001b[0m \u001b[0mself\u001b[0m\u001b[0;34m.\u001b[0m\u001b[0m_pandas_kinds\u001b[0m\u001b[0;34m:\u001b[0m\u001b[0;34m\u001b[0m\u001b[0;34m\u001b[0m\u001b[0m\n\u001b[1;32m    952\u001b[0m             \u001b[0;31m# Access pandas plots\u001b[0m\u001b[0;34m\u001b[0m\u001b[0;34m\u001b[0m\u001b[0m\n",
      "\u001b[0;32m/srv/conda/envs/notebook/lib/python3.9/site-packages/geopandas/plotting.py\u001b[0m in \u001b[0;36mplot_dataframe\u001b[0;34m(df, column, cmap, color, ax, cax, categorical, legend, scheme, k, vmin, vmax, markersize, figsize, legend_kwds, categories, classification_kwds, missing_kwds, aspect, **style_kwds)\u001b[0m\n\u001b[1;32m    665\u001b[0m             \u001b[0mbounds\u001b[0m \u001b[0;34m=\u001b[0m \u001b[0mdf\u001b[0m\u001b[0;34m.\u001b[0m\u001b[0mtotal_bounds\u001b[0m\u001b[0;34m\u001b[0m\u001b[0;34m\u001b[0m\u001b[0m\n\u001b[1;32m    666\u001b[0m             \u001b[0my_coord\u001b[0m \u001b[0;34m=\u001b[0m \u001b[0mnp\u001b[0m\u001b[0;34m.\u001b[0m\u001b[0mmean\u001b[0m\u001b[0;34m(\u001b[0m\u001b[0;34m[\u001b[0m\u001b[0mbounds\u001b[0m\u001b[0;34m[\u001b[0m\u001b[0;36m1\u001b[0m\u001b[0;34m]\u001b[0m\u001b[0;34m,\u001b[0m \u001b[0mbounds\u001b[0m\u001b[0;34m[\u001b[0m\u001b[0;36m3\u001b[0m\u001b[0;34m]\u001b[0m\u001b[0;34m]\u001b[0m\u001b[0;34m)\u001b[0m\u001b[0;34m\u001b[0m\u001b[0;34m\u001b[0m\u001b[0m\n\u001b[0;32m--> 667\u001b[0;31m             \u001b[0max\u001b[0m\u001b[0;34m.\u001b[0m\u001b[0mset_aspect\u001b[0m\u001b[0;34m(\u001b[0m\u001b[0;36m1\u001b[0m \u001b[0;34m/\u001b[0m \u001b[0mnp\u001b[0m\u001b[0;34m.\u001b[0m\u001b[0mcos\u001b[0m\u001b[0;34m(\u001b[0m\u001b[0my_coord\u001b[0m \u001b[0;34m*\u001b[0m \u001b[0mnp\u001b[0m\u001b[0;34m.\u001b[0m\u001b[0mpi\u001b[0m \u001b[0;34m/\u001b[0m \u001b[0;36m180\u001b[0m\u001b[0;34m)\u001b[0m\u001b[0;34m)\u001b[0m\u001b[0;34m\u001b[0m\u001b[0;34m\u001b[0m\u001b[0m\n\u001b[0m\u001b[1;32m    668\u001b[0m             \u001b[0;31m# formula ported from R package sp\u001b[0m\u001b[0;34m\u001b[0m\u001b[0;34m\u001b[0m\u001b[0m\n\u001b[1;32m    669\u001b[0m             \u001b[0;31m# https://github.com/edzer/sp/blob/master/R/mapasp.R\u001b[0m\u001b[0;34m\u001b[0m\u001b[0;34m\u001b[0m\u001b[0m\n",
      "\u001b[0;31mAttributeError\u001b[0m: 'Figure' object has no attribute 'set_aspect'"
     ]
    },
    {
     "data": {
      "image/png": "[encoded data removed]",
      "text/plain": [
       "<Figure size 432x288 with 1 Axes>"
      ]
     },
     "metadata": {
      "needs_background": "light"
     },
     "output_type": "display_data"
    }
   ],
   "source": [
    "ax, fig = plt.subplots()\n",
    "wa_gdf.plot(ax=ax, facecolor='none', edgecolor='k')\n",
    "wa_fires_gdf.plot(column='YEAR', cmap='inferno');"
   ]
  },
  {
   "cell_type": "markdown",
   "id": "0903f63e-ed8b-42cf-9bcd-4ca1a4d7cdf0",
   "metadata": {},
   "source": [
    "### Limit fire data to 2018-2020 years"
   ]
  },
  {
   "cell_type": "code",
   "execution_count": 49,
   "id": "642f5c4b-949a-4480-87c0-131e3fc4140c",
   "metadata": {},
   "outputs": [
    {
     "data": {
      "text/html": [
       "<div>\n",
       "<style scoped>\n",
       "    .dataframe tbody tr th:only-of-type {\n",
       "        vertical-align: middle;\n",
       "    }\n",
       "\n",
       "    .dataframe tbody tr th {\n",
       "        vertical-align: top;\n",
       "    }\n",
       "\n",
       "    .dataframe thead th {\n",
       "        text-align: right;\n",
       "    }\n",
       "</style>\n",
       "<table border=\"1\" class=\"dataframe\">\n",
       "  <thead>\n",
       "    <tr style=\"text-align: right;\">\n",
       "      <th></th>\n",
       "      <th>UNITID</th>\n",
       "      <th>AGENCY</th>\n",
       "      <th>FIRENAME</th>\n",
       "      <th>FIRENUM</th>\n",
       "      <th>STARTDATE</th>\n",
       "      <th>PERIMDATE</th>\n",
       "      <th>ACRES</th>\n",
       "      <th>YEAR</th>\n",
       "      <th>CAUSE</th>\n",
       "      <th>SHAPE_AREA</th>\n",
       "      <th>SHAPE_LEN</th>\n",
       "      <th>geometry</th>\n",
       "    </tr>\n",
       "  </thead>\n",
       "  <tbody>\n",
       "    <tr>\n",
       "      <th>573</th>\n",
       "      <td>WAWFS</td>\n",
       "      <td>WA FIRE SERVICE</td>\n",
       "      <td>LES BLAIR</td>\n",
       "      <td>136</td>\n",
       "      <td>2018-06-04</td>\n",
       "      <td>2018-06-06</td>\n",
       "      <td>905.728655</td>\n",
       "      <td>2018</td>\n",
       "      <td>UNKNOWN</td>\n",
       "      <td>3.945338e+07</td>\n",
       "      <td>36124.429104</td>\n",
       "      <td>POLYGON ((-119.00301 45.99451, -119.00349 45.9...</td>\n",
       "    </tr>\n",
       "    <tr>\n",
       "      <th>574</th>\n",
       "      <td>WASPD</td>\n",
       "      <td>SPOKANE BLM</td>\n",
       "      <td>SOAP LAKE</td>\n",
       "      <td>1282</td>\n",
       "      <td>2018-06-11</td>\n",
       "      <td>2018-06-14</td>\n",
       "      <td>2639.693642</td>\n",
       "      <td>2018</td>\n",
       "      <td>UNKNOWN</td>\n",
       "      <td>1.149846e+08</td>\n",
       "      <td>79677.367363</td>\n",
       "      <td>POLYGON ((-119.46840 47.40127, -119.47126 47.4...</td>\n",
       "    </tr>\n",
       "    <tr>\n",
       "      <th>575</th>\n",
       "      <td>WASES</td>\n",
       "      <td>WA DNR - SE REGION</td>\n",
       "      <td>MILEPOST TWENTY TWO</td>\n",
       "      <td>178</td>\n",
       "      <td>2018-06-20</td>\n",
       "      <td>2018-06-24</td>\n",
       "      <td>7596.787831</td>\n",
       "      <td>2018</td>\n",
       "      <td>HUMAN</td>\n",
       "      <td>3.309148e+08</td>\n",
       "      <td>76160.684183</td>\n",
       "      <td>POLYGON ((-120.10307 46.97950, -120.07774 46.9...</td>\n",
       "    </tr>\n",
       "    <tr>\n",
       "      <th>576</th>\n",
       "      <td>WAWFS</td>\n",
       "      <td>WA FIRE SERVICE</td>\n",
       "      <td>MONTECITO</td>\n",
       "      <td>227</td>\n",
       "      <td>2018-06-28</td>\n",
       "      <td>2018-06-29</td>\n",
       "      <td>1876.937761</td>\n",
       "      <td>2018</td>\n",
       "      <td>UNKNOWN</td>\n",
       "      <td>8.175908e+07</td>\n",
       "      <td>101232.591900</td>\n",
       "      <td>POLYGON ((-119.78450 46.18975, -119.78387 46.1...</td>\n",
       "    </tr>\n",
       "    <tr>\n",
       "      <th>577</th>\n",
       "      <td>WAWFS</td>\n",
       "      <td>WA FIRE SERVICE</td>\n",
       "      <td>EASTERDAY</td>\n",
       "      <td>193</td>\n",
       "      <td>2018-06-22</td>\n",
       "      <td>2018-06-23</td>\n",
       "      <td>1299.411609</td>\n",
       "      <td>2018</td>\n",
       "      <td>UNKNOWN</td>\n",
       "      <td>5.660214e+07</td>\n",
       "      <td>70434.094693</td>\n",
       "      <td>POLYGON ((-119.08160 45.99784, -119.08047 45.9...</td>\n",
       "    </tr>\n",
       "    <tr>\n",
       "      <th>...</th>\n",
       "      <td>...</td>\n",
       "      <td>...</td>\n",
       "      <td>...</td>\n",
       "      <td>...</td>\n",
       "      <td>...</td>\n",
       "      <td>...</td>\n",
       "      <td>...</td>\n",
       "      <td>...</td>\n",
       "      <td>...</td>\n",
       "      <td>...</td>\n",
       "      <td>...</td>\n",
       "      <td>...</td>\n",
       "    </tr>\n",
       "    <tr>\n",
       "      <th>807</th>\n",
       "      <td>WANES</td>\n",
       "      <td>WA DNR - NE REGION</td>\n",
       "      <td>RITCHEY</td>\n",
       "      <td>001060</td>\n",
       "      <td>2020-03-04</td>\n",
       "      <td>2020-03-10</td>\n",
       "      <td>11.079727</td>\n",
       "      <td>2020</td>\n",
       "      <td>RAILROAD</td>\n",
       "      <td>4.826310e+05</td>\n",
       "      <td>10199.061812</td>\n",
       "      <td>POLYGON ((-117.71394 47.60912, -117.71394 47.6...</td>\n",
       "    </tr>\n",
       "    <tr>\n",
       "      <th>808</th>\n",
       "      <td>WANES</td>\n",
       "      <td>WA DNR - NE REGION</td>\n",
       "      <td>HIGHWAY 27</td>\n",
       "      <td>001695</td>\n",
       "      <td>2020-07-24</td>\n",
       "      <td>2020-07-28</td>\n",
       "      <td>8.171272</td>\n",
       "      <td>2020</td>\n",
       "      <td>MISCELLANEOUS</td>\n",
       "      <td>3.559392e+05</td>\n",
       "      <td>8744.844518</td>\n",
       "      <td>MULTIPOLYGON (((-117.21306 47.54402, -117.2130...</td>\n",
       "    </tr>\n",
       "    <tr>\n",
       "      <th>809</th>\n",
       "      <td>WANES</td>\n",
       "      <td>WA DNR - NE REGION</td>\n",
       "      <td>SHORE ACRES</td>\n",
       "      <td>001804</td>\n",
       "      <td>2020-08-04</td>\n",
       "      <td>2020-08-13</td>\n",
       "      <td>18.092609</td>\n",
       "      <td>2020</td>\n",
       "      <td>LOGGING</td>\n",
       "      <td>7.881109e+05</td>\n",
       "      <td>4429.556762</td>\n",
       "      <td>POLYGON ((-117.68836 48.01342, -117.68848 48.0...</td>\n",
       "    </tr>\n",
       "    <tr>\n",
       "      <th>810</th>\n",
       "      <td>WANES</td>\n",
       "      <td>WA DNR - NE REGION</td>\n",
       "      <td>SHERMAN</td>\n",
       "      <td>001627</td>\n",
       "      <td>2020-07-16</td>\n",
       "      <td>2020-07-22</td>\n",
       "      <td>3.540164</td>\n",
       "      <td>2020</td>\n",
       "      <td>UNDER INVESTIGATION</td>\n",
       "      <td>1.542089e+05</td>\n",
       "      <td>2118.028091</td>\n",
       "      <td>POLYGON ((-117.45175 47.52286, -117.45267 47.5...</td>\n",
       "    </tr>\n",
       "    <tr>\n",
       "      <th>811</th>\n",
       "      <td>WANES</td>\n",
       "      <td>WA DNR - NE REGION</td>\n",
       "      <td>SPRAGUE</td>\n",
       "      <td>001792</td>\n",
       "      <td>2020-08-02</td>\n",
       "      <td>2020-08-06</td>\n",
       "      <td>15.724843</td>\n",
       "      <td>2020</td>\n",
       "      <td>MISCELLANEOUS</td>\n",
       "      <td>6.849714e+05</td>\n",
       "      <td>4173.793777</td>\n",
       "      <td>POLYGON ((-117.91158 47.33821, -117.91277 47.3...</td>\n",
       "    </tr>\n",
       "  </tbody>\n",
       "</table>\n",
       "<p>163 rows × 12 columns</p>\n",
       "</div>"
      ],
      "text/plain": [
       "    UNITID              AGENCY             FIRENAME FIRENUM   STARTDATE  \\\n",
       "573  WAWFS     WA FIRE SERVICE            LES BLAIR     136  2018-06-04   \n",
       "574  WASPD         SPOKANE BLM            SOAP LAKE    1282  2018-06-11   \n",
       "575  WASES  WA DNR - SE REGION  MILEPOST TWENTY TWO     178  2018-06-20   \n",
       "576  WAWFS     WA FIRE SERVICE            MONTECITO     227  2018-06-28   \n",
       "577  WAWFS     WA FIRE SERVICE            EASTERDAY     193  2018-06-22   \n",
       "..     ...                 ...                  ...     ...         ...   \n",
       "807  WANES  WA DNR - NE REGION              RITCHEY  001060  2020-03-04   \n",
       "808  WANES  WA DNR - NE REGION           HIGHWAY 27  001695  2020-07-24   \n",
       "809  WANES  WA DNR - NE REGION          SHORE ACRES  001804  2020-08-04   \n",
       "810  WANES  WA DNR - NE REGION              SHERMAN  001627  2020-07-16   \n",
       "811  WANES  WA DNR - NE REGION              SPRAGUE  001792  2020-08-02   \n",
       "\n",
       "      PERIMDATE        ACRES  YEAR                CAUSE    SHAPE_AREA  \\\n",
       "573  2018-06-06   905.728655  2018              UNKNOWN  3.945338e+07   \n",
       "574  2018-06-14  2639.693642  2018              UNKNOWN  1.149846e+08   \n",
       "575  2018-06-24  7596.787831  2018                HUMAN  3.309148e+08   \n",
       "576  2018-06-29  1876.937761  2018              UNKNOWN  8.175908e+07   \n",
       "577  2018-06-23  1299.411609  2018              UNKNOWN  5.660214e+07   \n",
       "..          ...          ...   ...                  ...           ...   \n",
       "807  2020-03-10    11.079727  2020             RAILROAD  4.826310e+05   \n",
       "808  2020-07-28     8.171272  2020        MISCELLANEOUS  3.559392e+05   \n",
       "809  2020-08-13    18.092609  2020              LOGGING  7.881109e+05   \n",
       "810  2020-07-22     3.540164  2020  UNDER INVESTIGATION  1.542089e+05   \n",
       "811  2020-08-06    15.724843  2020        MISCELLANEOUS  6.849714e+05   \n",
       "\n",
       "         SHAPE_LEN                                           geometry  \n",
       "573   36124.429104  POLYGON ((-119.00301 45.99451, -119.00349 45.9...  \n",
       "574   79677.367363  POLYGON ((-119.46840 47.40127, -119.47126 47.4...  \n",
       "575   76160.684183  POLYGON ((-120.10307 46.97950, -120.07774 46.9...  \n",
       "576  101232.591900  POLYGON ((-119.78450 46.18975, -119.78387 46.1...  \n",
       "577   70434.094693  POLYGON ((-119.08160 45.99784, -119.08047 45.9...  \n",
       "..             ...                                                ...  \n",
       "807   10199.061812  POLYGON ((-117.71394 47.60912, -117.71394 47.6...  \n",
       "808    8744.844518  MULTIPOLYGON (((-117.21306 47.54402, -117.2130...  \n",
       "809    4429.556762  POLYGON ((-117.68836 48.01342, -117.68848 48.0...  \n",
       "810    2118.028091  POLYGON ((-117.45175 47.52286, -117.45267 47.5...  \n",
       "811    4173.793777  POLYGON ((-117.91158 47.33821, -117.91277 47.3...  \n",
       "\n",
       "[163 rows x 12 columns]"
      ]
     },
     "execution_count": 49,
     "metadata": {},
     "output_type": "execute_result"
    }
   ],
   "source": [
    "idx = wa_fires_gdf['YEAR'].isin([2018, 2019, 2020])\n",
    "wa_fires_rec_gdf = wa_fires_gdf[idx]\n",
    "wa_fires_rec_gdf"
   ]
  },
  {
   "cell_type": "markdown",
   "id": "ff936c86-e5ac-44e2-979d-d50c5a0e09e0",
   "metadata": {},
   "source": [
    "### Wow! 163 large fires in washington within those years"
   ]
  },
  {
   "cell_type": "markdown",
   "id": "4221c74a-e1fb-4f55-8b79-5e2de868d0e9",
   "metadata": {},
   "source": [
    "## Part 2: Select 3 fires to look at. \n",
    "There are a few criteria to consider: \n",
    "* Remoteness: fires that may have been hard to spot initially are good candidates\n",
    "* Size: a few varied sizes would be preferrable\n",
    "* Time: The fires should be visible from the satellites at their start times."
   ]
  },
  {
   "cell_type": "markdown",
   "id": "565b9097-90bc-4a97-8c44-97ce8495541c",
   "metadata": {},
   "source": [
    "### Organize the fires by Region\n",
    "Some custom classifications will be required here"
   ]
  },
  {
   "cell_type": "code",
   "execution_count": null,
   "id": "c4259a1a-bb03-4d2b-9807-b8da4769dd28",
   "metadata": {},
   "outputs": [],
   "source": []
  },
  {
   "cell_type": "markdown",
   "id": "3f6ed9d1-1a0b-4942-8d45-e0c5f0c76937",
   "metadata": {},
   "source": [
    "### Organize the fires by Size\n",
    "Simple descending list by acres will do"
   ]
  },
  {
   "cell_type": "code",
   "execution_count": null,
   "id": "1aec5481-7d3f-4055-8119-6a8fe4ce4f10",
   "metadata": {},
   "outputs": [],
   "source": []
  },
  {
   "cell_type": "markdown",
   "id": "da961105-2925-47bf-835f-ebde161ce675",
   "metadata": {},
   "source": [
    "### Select 8 fires\n",
    "Only 3 will be looked at in the analysis, but 8 will be selected and narrowed down based on best visibility"
   ]
  },
  {
   "cell_type": "code",
   "execution_count": null,
   "id": "3e292339-ad2b-44a5-9d3a-3789e8051ff0",
   "metadata": {},
   "outputs": [],
   "source": []
  },
  {
   "cell_type": "code",
   "execution_count": null,
   "id": "8791a1e4-df6b-449e-a908-fbb066744231",
   "metadata": {},
   "outputs": [],
   "source": []
  },
  {
   "cell_type": "markdown",
   "id": "8d48afd2-27ab-4434-a683-3c24bafba79d",
   "metadata": {},
   "source": [
    "### Now a few fires have been selected!\n",
    "#### It is now time to download the GOES data corresponding to these times"
   ]
  },
  {
   "cell_type": "markdown",
   "id": "39ac32e7-5ddf-41f2-9fce-b2823ff77e4d",
   "metadata": {},
   "source": [
    "## Part 3: Downloading and Orthorectifying the GOES data"
   ]
  },
  {
   "cell_type": "code",
   "execution_count": null,
   "id": "09274822-d5a8-439d-a303-c857fe40bf04",
   "metadata": {},
   "outputs": [],
   "source": []
  },
  {
   "cell_type": "markdown",
   "id": "f6204f38-0783-4605-966a-aaec657919b7",
   "metadata": {},
   "source": [
    "## Part 4: Basic Tests for GOES visibility\n",
    "Here the 8 initial fires will be narrowed down to 3."
   ]
  },
  {
   "cell_type": "code",
   "execution_count": null,
   "id": "91f34634-9bce-4766-babd-403b42453f0c",
   "metadata": {},
   "outputs": [],
   "source": []
  },
  {
   "cell_type": "markdown",
   "id": "5e48b664-b9f8-4a27-9342-cdf28034bdbd",
   "metadata": {},
   "source": [
    "## Part 5: Overlaying the GOES rasters with DNR data"
   ]
  },
  {
   "cell_type": "code",
   "execution_count": null,
   "id": "fac539ec-987c-46d6-948e-be1546debdad",
   "metadata": {},
   "outputs": [],
   "source": []
  },
  {
   "cell_type": "markdown",
   "id": "fb842857-506f-49e6-a087-43ddf1d54a31",
   "metadata": {},
   "source": [
    "## Part 6: Checking Initial Detection with GOES"
   ]
  },
  {
   "cell_type": "code",
   "execution_count": null,
   "id": "4e3651c3-c36a-4fc0-bdd2-2b1acae6d71b",
   "metadata": {},
   "outputs": [],
   "source": []
  },
  {
   "cell_type": "code",
   "execution_count": null,
   "id": "afaf80e5-ef38-48b1-9963-e05d963b0918",
   "metadata": {},
   "outputs": [],
   "source": []
  }
 ],
 "metadata": {
  "kernelspec": {
   "display_name": "Python 3 (ipykernel)",
   "language": "python",
   "name": "python3"
  },
  "language_info": {
   "codemirror_mode": {
    "name": "ipython",
    "version": 3
   },
   "file_extension": ".py",
   "mimetype": "text/x-python",
   "name": "python",
   "nbconvert_exporter": "python",
   "pygments_lexer": "ipython3",
   "version": "3.9.7"
  }
 },
 "nbformat": 4,
 "nbformat_minor": 5
}
